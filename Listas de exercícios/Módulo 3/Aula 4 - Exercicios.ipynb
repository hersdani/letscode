{
 "cells": [
  {
   "cell_type": "markdown",
   "metadata": {},
   "source": [
    "# 3. Exercícios"
   ]
  },
  {
   "cell_type": "markdown",
   "metadata": {},
   "source": [
    "**1.** Crie um arquivo nomes.txt e salve os itens da lista 'nomes' em linhas separadas:"
   ]
  },
  {
   "cell_type": "code",
   "execution_count": 4,
   "metadata": {},
   "outputs": [],
   "source": [
    "arquivo = open('nomes.txt', 'w')\n",
    "\n",
    "nomes = [\"André\", \"João\", \"Maria\"]\n",
    "\n",
    "for i in nomes:\n",
    "    arquivo.write(i + '\\n')\n",
    "\n",
    "arquivo.close()"
   ]
  },
  {
   "cell_type": "markdown",
   "metadata": {},
   "source": [
    "**2.** Salve as notas_alunos em um arquivo csv com o mesmo nome"
   ]
  },
  {
   "cell_type": "code",
   "execution_count": 14,
   "metadata": {},
   "outputs": [],
   "source": [
    "import csv\n",
    "\n",
    "notas_alunos = [['jose', 10, 8, 9.5, 8.8, 10],\n",
    "                ['pedro', 9.8, 9.2, 9.0, 8.8, 9.1],\n",
    "                ['suzana', 8, 7.1, 7.5, 8.2, 7.9],\n",
    "                ['gisela', 10, 9.6, 8.9, 9.4, 9.7],\n",
    "                ['joao', 7.5, 7.9, 8.0, 9.1, 7.3]]\n",
    "\n",
    "arquivo = open('notas_alunos.csv', 'w')\n",
    "\n",
    "escritor = csv.writer(arquivo, delimiter = ',', lineterminator = '\\n')\n",
    "escritor.writerows(notas_alunos)\n",
    "\n",
    "arquivo.close()"
   ]
  },
  {
   "cell_type": "markdown",
   "metadata": {},
   "source": [
    "**3.** Adicione ao arquivo notas_alunos.csv as notas das seguintes alunas: <br>\n",
    "    mariana: 9.8, 10, 9.7, 9.0, 9.2 <br>\n",
    "    luciana: 9.5, 8.7, 10, 9.4, 9.6"
   ]
  },
  {
   "cell_type": "code",
   "execution_count": 15,
   "metadata": {},
   "outputs": [],
   "source": [
    "arquivo = open('notas_alunos.csv', 'a')\n",
    "\n",
    "arquivo.write('mariana,9.8,10,9.7,9.0,9.2\\n')\n",
    "arquivo.write('luciana,9.5,8.7,10,9.4,9.6')\n",
    "\n",
    "arquivo.close()"
   ]
  },
  {
   "cell_type": "markdown",
   "metadata": {},
   "source": [
    "**4.** Leia o arquivo notas_alunos.csv e retorne a nota média de cada um deles"
   ]
  },
  {
   "cell_type": "code",
   "execution_count": 16,
   "metadata": {},
   "outputs": [
    {
     "name": "stdout",
     "output_type": "stream",
     "text": [
      "[['9.8', '9.2', '9.0', '8.8', '9.1'], ['8', '7.1', '7.5', '8.2', '7.9'], ['10', '9.6', '8.9', '9.4', '9.7'], ['7.5', '7.9', '8.0', '9.1', '7.3'], ['9.8', '10', '9.7', '9.0', '9.2'], ['9.5', '8.7', '10', '9.4', '9.6']]\n"
     ]
    }
   ],
   "source": [
    "arquivo = open('notas_alunos.csv', 'r')\n",
    "\n",
    "leitor = csv.reader(arquivo, delimiter = ',', lineterminator = '\\n')\n",
    "\n",
    "tabela = []\n",
    "\n",
    "for linha in leitor:\n",
    "    tabela.append(linha)\n",
    "    \n",
    "notas = []\n",
    "\n",
    "linhas = tabela[1:]\n",
    "\n",
    "for linha in linhas:\n",
    "    lista_nova = linha[1:]\n",
    "    \n",
    "    for notas in lista_nova:\n",
    "                \n",
    "print(notas)    \n",
    "    \n",
    "\"media = sum(notas)/len(notas)\"\n",
    "\"print(media)\"\n",
    "\n",
    "arquivo.close()"
   ]
  },
  {
   "cell_type": "markdown",
   "metadata": {},
   "source": [
    "____\n",
    "____\n",
    "____\n",
    "____"
   ]
  }
 ],
 "metadata": {
  "kernelspec": {
   "display_name": "Python 3 (ipykernel)",
   "language": "python",
   "name": "python3"
  },
  "language_info": {
   "codemirror_mode": {
    "name": "ipython",
    "version": 3
   },
   "file_extension": ".py",
   "mimetype": "text/x-python",
   "name": "python",
   "nbconvert_exporter": "python",
   "pygments_lexer": "ipython3",
   "version": "3.9.7"
  }
 },
 "nbformat": 4,
 "nbformat_minor": 4
}
